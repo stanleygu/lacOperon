{
 "metadata": {
  "signature": "sha256:318525fb4f8588dde3ff472e4106b460c29b3a795f7b8d26f7763f3f68da661c"
 },
 "nbformat": 3,
 "nbformat_minor": 0,
 "worksheets": [
  {
   "cells": [
    {
     "cell_type": "code",
     "collapsed": false,
     "input": [
      "import tellurium as te"
     ],
     "language": "python",
     "metadata": {},
     "outputs": [],
     "prompt_number": 1
    },
    {
     "cell_type": "code",
     "collapsed": false,
     "input": [
      "model = '''\n",
      "model bGalRegulation\n",
      "    -> bGal; (Vm_exp * lac^n / (kd_lac + lac^n)) # Production of bGal\n",
      "    bGal -> ; k_deg * bGal # Degradation of bGal\n",
      "\n",
      "    # Species Initialization\n",
      "    lac = 0;\n",
      "    bGal = 0;\n",
      "    # Parameters\n",
      "    k_deg = 1;\n",
      "    kd_lac = 1;\n",
      "    n = 4;\n",
      "    Vm_exp = 1;\n",
      "end\n",
      "'''"
     ],
     "language": "python",
     "metadata": {},
     "outputs": [],
     "prompt_number": 21
    },
    {
     "cell_type": "code",
     "collapsed": false,
     "input": [
      "test = model + '''\n",
      "model test\n",
      "    R: bGalRegulation()\n",
      "\n",
      "    R.lac is lac\n",
      "    # Injection of lactose at t=5\n",
      "    at (time >5): lac = 5\n",
      "end\n",
      "'''\n",
      "rr = te.loadAntimonyModel(test)\n",
      "result = rr.simulate(0, 25, 100)\n",
      "p = te.plotWithLegend(rr, result)"
     ],
     "language": "python",
     "metadata": {},
     "outputs": [
      {
       "metadata": {},
       "output_type": "display_data",
       "png": "[encoded data removed]",
       "text": [
        "<matplotlib.figure.Figure at 0x2cc3ed0>"
       ]
      }
     ],
     "prompt_number": 22
    },
    {
     "cell_type": "code",
     "collapsed": false,
     "input": [],
     "language": "python",
     "metadata": {},
     "outputs": []
    }
   ],
   "metadata": {}
  }
 ]
}