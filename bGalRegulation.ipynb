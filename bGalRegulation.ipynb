{
 "metadata": {
  "signature": "sha256:a79de4d84a80125df39f07eeb985b9418ca234105045e574114190664939a95d"
 },
 "nbformat": 3,
 "nbformat_minor": 0,
 "worksheets": [
  {
   "cells": [
    {
     "cell_type": "code",
     "collapsed": false,
     "input": [
      "import tellurium as te"
     ],
     "language": "python",
     "metadata": {},
     "outputs": [],
     "prompt_number": 1
    },
    {
     "cell_type": "code",
     "collapsed": false,
     "input": [
      "model = '''\n",
      "model bGalRegulation\n",
      "    # Declare species\n",
      "    species lac;\n",
      "    \n",
      "    -> bGal; (Vm_exp * lac^n / (kd_lac + lac^n)) # Production of bGal\n",
      "    bGal -> ; k_deg * bGal # Degradation of bGal\n",
      "\n",
      "    # Species Initialization\n",
      "    lac = 0;\n",
      "    bGal = 0;\n",
      "    # Parameters\n",
      "    k_deg = 1;\n",
      "    kd_lac = 1;\n",
      "    n = 4;\n",
      "    Vm_exp = 1;\n",
      "end\n",
      "'''"
     ],
     "language": "python",
     "metadata": {},
     "outputs": [],
     "prompt_number": 2
    },
    {
     "cell_type": "markdown",
     "metadata": {},
     "source": [
      "# Help! My model isn't working right"
     ]
    },
    {
     "cell_type": "code",
     "collapsed": false,
     "input": [
      "test = model + '''\n",
      "model test\n",
      "    R: bGalRegulation()\n",
      "\n",
      "    # Injection of lactose at t=5\n",
      "    at (time >5): lac = 5\n",
      "end\n",
      "'''\n",
      "rr = te.loadAntimonyModel(test)\n",
      "result = rr.simulate(0, 25, 100)\n",
      "p = te.plotWithLegend(rr, result)"
     ],
     "language": "python",
     "metadata": {},
     "outputs": [
      {
       "metadata": {},
       "output_type": "display_data",
       "png": "[encoded data removed]",
       "text": [
        "<matplotlib.figure.Figure at 0x2ee3690>"
       ]
      }
     ],
     "prompt_number": 3
    },
    {
     "cell_type": "code",
     "collapsed": false,
     "input": [],
     "language": "python",
     "metadata": {},
     "outputs": []
    }
   ],
   "metadata": {}
  }
 ]
}